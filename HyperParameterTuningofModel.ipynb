{
  "nbformat": 4,
  "nbformat_minor": 0,
  "metadata": {
    "colab": {
      "provenance": []
    },
    "kernelspec": {
      "name": "python3",
      "display_name": "Python 3"
    },
    "language_info": {
      "name": "python"
    }
  },
  "cells": [
    {
      "cell_type": "markdown",
      "source": [
        "using Grid & Random Search"
      ],
      "metadata": {
        "id": "N23L7gJyRBJr"
      }
    },
    {
      "cell_type": "code",
      "execution_count": null,
      "metadata": {
        "id": "7TeXyflLMO9t"
      },
      "outputs": [],
      "source": [
        "# 1. Import Libraries\n",
        "import numpy as np\n",
        "import pandas as pd\n",
        "from sklearn.datasets import load_iris\n",
        "from sklearn.ensemble import RandomForestClassifier\n",
        "from sklearn.model_selection import train_test_split, GridSearchCV, RandomizedSearchCV\n",
        "from sklearn.metrics import classification_report, accuracy_score\n",
        "import seaborn as sns\n",
        "import matplotlib.pyplot as plt\n",
        "from scipy.stats import randint"
      ]
    },
    {
      "cell_type": "code",
      "source": [
        "# 2. Load Dataset\n",
        "iris = load_iris()\n",
        "X = iris.data\n",
        "y = iris.target"
      ],
      "metadata": {
        "id": "1piPys2eO0oe"
      },
      "execution_count": null,
      "outputs": []
    },
    {
      "cell_type": "code",
      "source": [
        "# 3. Train/Test Split\n",
        "X_train, X_test, y_train, y_test = train_test_split(X, y, test_size=0.3, random_state=42)\n",
        "\n",
        "# 4. Baseline Model\n",
        "baseline_model = RandomForestClassifier(random_state=42)\n",
        "baseline_model.fit(X_train, y_train)\n",
        "baseline_preds = baseline_model.predict(X_test)\n",
        "\n",
        "print(\"Baseline Accuracy:\", accuracy_score(y_test, baseline_preds))\n",
        "print(\"Classification Report:\\n\", classification_report(y_test, baseline_preds))"
      ],
      "metadata": {
        "colab": {
          "base_uri": "https://localhost:8080/"
        },
        "id": "LxUyDvWQPA6x",
        "outputId": "b294ceec-1553-44ab-8285-51bbaa3ed9ea"
      },
      "execution_count": null,
      "outputs": [
        {
          "output_type": "stream",
          "name": "stdout",
          "text": [
            "Baseline Accuracy: 1.0\n",
            "Classification Report:\n",
            "               precision    recall  f1-score   support\n",
            "\n",
            "           0       1.00      1.00      1.00        19\n",
            "           1       1.00      1.00      1.00        13\n",
            "           2       1.00      1.00      1.00        13\n",
            "\n",
            "    accuracy                           1.00        45\n",
            "   macro avg       1.00      1.00      1.00        45\n",
            "weighted avg       1.00      1.00      1.00        45\n",
            "\n"
          ]
        }
      ]
    },
    {
      "cell_type": "code",
      "source": [
        "# 5. Grid Search\n",
        "param_grid = {\n",
        "    'n_estimators': [50, 100, 150],\n",
        "    'max_depth': [None, 10, 20],\n",
        "    'criterion': ['gini', 'entropy']\n",
        "}\n",
        "\n",
        "grid_search = GridSearchCV(\n",
        "    estimator=RandomForestClassifier(random_state=42),\n",
        "    param_grid=param_grid,\n",
        "    cv=5,\n",
        "    scoring='accuracy'\n",
        ")\n",
        "\n",
        "grid_search.fit(X_train, y_train)\n",
        "grid_best_model = grid_search.best_estimator_\n",
        "grid_preds = grid_best_model.predict(X_test)\n",
        "\n",
        "print(\"Grid Search Best Parameters:\", grid_search.best_params_)\n",
        "print(\"Grid Search Accuracy:\", accuracy_score(y_test, grid_preds))"
      ],
      "metadata": {
        "colab": {
          "base_uri": "https://localhost:8080/"
        },
        "id": "MYfZeyHvPZJN",
        "outputId": "bb9fc8ae-9898-4865-ada5-c0dbbae8b18c"
      },
      "execution_count": null,
      "outputs": [
        {
          "output_type": "stream",
          "name": "stdout",
          "text": [
            "Grid Search Best Parameters: {'criterion': 'gini', 'max_depth': None, 'n_estimators': 100}\n",
            "Grid Search Accuracy: 1.0\n"
          ]
        }
      ]
    },
    {
      "cell_type": "code",
      "source": [
        "# 6. Random Search\n",
        "param_dist = {\n",
        "    'n_estimators': randint(50, 200),\n",
        "    'max_depth': randint(3, 30),\n",
        "    'min_samples_split': randint(2, 10)\n",
        "}\n",
        "\n",
        "random_search = RandomizedSearchCV(\n",
        "    estimator=RandomForestClassifier(random_state=42),\n",
        "    param_distributions=param_dist,\n",
        "    n_iter=20,\n",
        "    cv=5,\n",
        "    scoring='accuracy',\n",
        "    random_state=42\n",
        ")\n",
        "\n",
        "random_search.fit(X_train, y_train)\n",
        "random_best_model = random_search.best_estimator_\n",
        "random_preds = random_best_model.predict(X_test)\n",
        "\n",
        "print(\"Random Search Best Parameters:\", random_search.best_params_)\n",
        "print(\"Random Search Accuracy:\", accuracy_score(y_test, random_preds))"
      ],
      "metadata": {
        "colab": {
          "base_uri": "https://localhost:8080/"
        },
        "id": "Cn1CR1v6PnuH",
        "outputId": "149b2c1c-ce71-4617-b73f-d7e59374f7a7"
      },
      "execution_count": null,
      "outputs": [
        {
          "output_type": "stream",
          "name": "stdout",
          "text": [
            "Random Search Best Parameters: {'max_depth': 9, 'min_samples_split': 5, 'n_estimators': 142}\n",
            "Random Search Accuracy: 1.0\n"
          ]
        }
      ]
    },
    {
      "cell_type": "code",
      "source": [
        "# 7. Compare Results\n",
        "results_df = pd.DataFrame({\n",
        "    'Model': ['Baseline', 'Grid Search', 'Random Search'],\n",
        "    'Accuracy': [\n",
        "        accuracy_score(y_test, baseline_preds),\n",
        "        accuracy_score(y_test, grid_preds),\n",
        "        accuracy_score(y_test, random_preds)\n",
        "    ]\n",
        "})\n",
        "\n",
        "sns.barplot(x='Model', y='Accuracy', data=results_df)\n",
        "plt.title('Model Accuracy Comparison')\n",
        "plt.ylim(0.9, 1.0)\n",
        "plt.show()"
      ],
      "metadata": {
        "colab": {
          "base_uri": "https://localhost:8080/",
          "height": 472
        },
        "id": "ZQF7pE3TQHbk",
        "outputId": "a75864c8-15de-4127-88c8-55555d59aead"
      },
      "execution_count": null,
      "outputs": [
        {
          "output_type": "display_data",
          "data": {
            "text/plain": [
              "<Figure size 640x480 with 1 Axes>"
            ],
            "image/png": "[encoded data removed]"
          },
          "metadata": {}
        }
      ]
    },
    {
      "cell_type": "markdown",
      "source": [
        "Support Vector Machine (SVM) with Grid & Random Search"
      ],
      "metadata": {
        "id": "NEaPuFKPREll"
      }
    },
    {
      "cell_type": "code",
      "source": [
        "from sklearn.svm import SVC\n",
        "from scipy.stats import uniform"
      ],
      "metadata": {
        "id": "nnpXFW5SRQvz"
      },
      "execution_count": null,
      "outputs": []
    },
    {
      "cell_type": "code",
      "source": [
        "# 1. Baseline SVM Model\n",
        "baseline_svm = SVC()\n",
        "baseline_svm.fit(X_train, y_train)\n",
        "baseline_svm_preds = baseline_svm.predict(X_test)\n",
        "\n",
        "print(\"SVM Baseline Accuracy:\", accuracy_score(y_test, baseline_svm_preds))"
      ],
      "metadata": {
        "colab": {
          "base_uri": "https://localhost:8080/"
        },
        "id": "LVxnQYzWRYLS",
        "outputId": "eb40784c-fd64-47bf-8e3d-8922195a5c15"
      },
      "execution_count": null,
      "outputs": [
        {
          "output_type": "stream",
          "name": "stdout",
          "text": [
            "SVM Baseline Accuracy: 1.0\n"
          ]
        }
      ]
    },
    {
      "cell_type": "code",
      "source": [
        "# 2. Grid Search for SVM\n",
        "svm_param_grid = {\n",
        "    'C': [0.1, 1, 10],\n",
        "    'kernel': ['linear', 'rbf'],\n",
        "    'gamma': ['scale', 'auto']\n",
        "}\n",
        "\n",
        "svm_grid_search = GridSearchCV(SVC(), svm_param_grid, cv=5, scoring='accuracy')\n",
        "svm_grid_search.fit(X_train, y_train)\n",
        "\n",
        "svm_grid_best = svm_grid_search.best_estimator_\n",
        "svm_grid_preds = svm_grid_best.predict(X_test)\n",
        "\n",
        "print(\"SVM Grid Best Params:\", svm_grid_search.best_params_)\n",
        "print(\"SVM Grid Accuracy:\", accuracy_score(y_test, svm_grid_preds))"
      ],
      "metadata": {
        "colab": {
          "base_uri": "https://localhost:8080/"
        },
        "id": "DoD98K38Rk4o",
        "outputId": "b95d5f1b-781b-47ee-dd13-43575182ee66"
      },
      "execution_count": null,
      "outputs": [
        {
          "output_type": "stream",
          "name": "stdout",
          "text": [
            "SVM Grid Best Params: {'C': 1, 'gamma': 'scale', 'kernel': 'linear'}\n",
            "SVM Grid Accuracy: 1.0\n"
          ]
        }
      ]
    },
    {
      "cell_type": "code",
      "source": [
        "# 3. Random Search for SVM\n",
        "svm_param_dist = {\n",
        "    'C': uniform(0.1, 10),\n",
        "    'kernel': ['linear', 'rbf', 'poly'],\n",
        "    'gamma': ['scale', 'auto']\n",
        "}\n",
        "\n",
        "svm_random_search = RandomizedSearchCV(SVC(), svm_param_dist, n_iter=20, cv=5, scoring='accuracy', random_state=42)\n",
        "svm_random_search.fit(X_train, y_train)\n",
        "\n",
        "svm_random_best = svm_random_search.best_estimator_\n",
        "svm_random_preds = svm_random_best.predict(X_test)\n",
        "\n",
        "print(\"SVM Random Best Params:\", svm_random_search.best_params_)\n",
        "print(\"SVM Random Accuracy:\", accuracy_score(y_test, svm_random_preds))"
      ],
      "metadata": {
        "colab": {
          "base_uri": "https://localhost:8080/"
        },
        "id": "PNywkVTDRwR2",
        "outputId": "6de9797a-e119-41be-8b88-c1e5fc18298a"
      },
      "execution_count": null,
      "outputs": [
        {
          "output_type": "stream",
          "name": "stdout",
          "text": [
            "SVM Random Best Params: {'C': np.float64(2.2233911067827616), 'gamma': 'auto', 'kernel': 'linear'}\n",
            "SVM Random Accuracy: 1.0\n"
          ]
        }
      ]
    },
    {
      "cell_type": "markdown",
      "source": [
        "XGBoost Classifier with Grid & Random Search"
      ],
      "metadata": {
        "id": "3TgPHbj1SAnt"
      }
    },
    {
      "cell_type": "code",
      "source": [
        "from xgboost import XGBClassifier"
      ],
      "metadata": {
        "id": "M1M0t8RjSB1m"
      },
      "execution_count": null,
      "outputs": []
    },
    {
      "cell_type": "code",
      "source": [
        "# 1. Baseline XGBoost Model\n",
        "xgb_base = XGBClassifier(use_label_encoder=False, eval_metric='mlogloss', random_state=42)\n",
        "xgb_base.fit(X_train, y_train)\n",
        "xgb_base_preds = xgb_base.predict(X_test)\n",
        "\n",
        "print(\"XGBoost Baseline Accuracy:\", accuracy_score(y_test, xgb_base_preds))"
      ],
      "metadata": {
        "colab": {
          "base_uri": "https://localhost:8080/"
        },
        "id": "GO-UN8nBST1r",
        "outputId": "9f2b8aaf-1619-4a07-db05-e9aefaf440e1"
      },
      "execution_count": null,
      "outputs": [
        {
          "output_type": "stream",
          "name": "stdout",
          "text": [
            "XGBoost Baseline Accuracy: 1.0\n"
          ]
        },
        {
          "output_type": "stream",
          "name": "stderr",
          "text": [
            "/usr/local/lib/python3.11/dist-packages/xgboost/core.py:158: UserWarning: [10:43:19] WARNING: /workspace/src/learner.cc:740: \n",
            "Parameters: { \"use_label_encoder\" } are not used.\n",
            "\n",
            "  warnings.warn(smsg, UserWarning)\n"
          ]
        }
      ]
    },
    {
      "cell_type": "code",
      "source": [
        "# 2. Grid Search for XGBoost\n",
        "xgb_param_grid = {\n",
        "    'n_estimators': [50, 100],\n",
        "    'max_depth': [3, 6, 9],\n",
        "    'learning_rate': [0.01, 0.1, 0.3]\n",
        "}\n",
        "\n",
        "xgb_grid_search = GridSearchCV(\n",
        "XGBClassifier(eval_metric='mlogloss', random_state=42),\n",
        "    xgb_param_grid,\n",
        "    cv=5,\n",
        "    scoring='accuracy'\n",
        ")\n",
        "xgb_grid_search.fit(X_train, y_train)\n",
        "\n",
        "xgb_grid_best = xgb_grid_search.best_estimator_\n",
        "xgb_grid_preds = xgb_grid_best.predict(X_test)\n",
        "\n",
        "print(\"XGBoost Grid Best Params:\", xgb_grid_search.best_params_)\n",
        "print(\"XGBoost Grid Accuracy:\", accuracy_score(y_test, xgb_grid_preds))"
      ],
      "metadata": {
        "colab": {
          "base_uri": "https://localhost:8080/"
        },
        "id": "jm0rmTQ_SZI1",
        "outputId": "9043bf3e-a0ea-42bd-e66a-e727caa131e2"
      },
      "execution_count": null,
      "outputs": [
        {
          "output_type": "stream",
          "name": "stdout",
          "text": [
            "XGBoost Grid Best Params: {'learning_rate': 0.3, 'max_depth': 6, 'n_estimators': 50}\n",
            "XGBoost Grid Accuracy: 1.0\n"
          ]
        }
      ]
    },
    {
      "cell_type": "code",
      "source": [
        "# 3. Random Search for XGBoost\n",
        "from scipy.stats import randint, uniform\n",
        "\n",
        "xgb_param_dist = {\n",
        "    'n_estimators': randint(50, 200),\n",
        "    'max_depth': randint(3, 10),\n",
        "    'learning_rate': uniform(0.01, 0.3)\n",
        "}\n",
        "\n",
        "xgb_random_search = RandomizedSearchCV(\n",
        "   XGBClassifier(eval_metric='mlogloss', random_state=42),\n",
        "    xgb_param_dist,\n",
        "    n_iter=20,\n",
        "    cv=5,\n",
        "    scoring='accuracy',\n",
        "    random_state=42\n",
        ")\n",
        "xgb_random_search.fit(X_train, y_train)\n",
        "\n",
        "xgb_random_best = xgb_random_search.best_estimator_\n",
        "xgb_random_preds = xgb_random_best.predict(X_test)\n",
        "\n",
        "print(\"XGBoost Random Best Params:\", xgb_random_search.best_params_)\n",
        "print(\"XGBoost Random Accuracy:\", accuracy_score(y_test, xgb_random_preds))\n"
      ],
      "metadata": {
        "colab": {
          "base_uri": "https://localhost:8080/"
        },
        "id": "HmFAQbWnTwbV",
        "outputId": "0f00a212-f066-4aa8-b2da-6eff5fba4509"
      },
      "execution_count": null,
      "outputs": [
        {
          "output_type": "stream",
          "name": "stdout",
          "text": [
            "XGBoost Random Best Params: {'learning_rate': np.float64(0.12236203565420874), 'max_depth': 7, 'n_estimators': 64}\n",
            "XGBoost Random Accuracy: 1.0\n"
          ]
        }
      ]
    },
    {
      "cell_type": "code",
      "source": [
        "final_results = pd.DataFrame({\n",
        "    'Model': [\n",
        "        'Logistic Baseline', 'Logistic Grid', 'Logistic Random',\n",
        "        'SVM Baseline', 'SVM Grid', 'SVM Random',\n",
        "        'XGBoost Baseline', 'XGBoost Grid', 'XGBoost Random'\n",
        "    ],\n",
        "    'Accuracy': [\n",
        "        accuracy_score(y_test, baseline_preds),\n",
        "        accuracy_score(y_test, grid_preds),\n",
        "        accuracy_score(y_test, random_preds),\n",
        "        accuracy_score(y_test, baseline_svm_preds),\n",
        "        accuracy_score(y_test, svm_grid_preds),\n",
        "        accuracy_score(y_test, svm_random_preds),\n",
        "        accuracy_score(y_test, xgb_base_preds),\n",
        "        accuracy_score(y_test, xgb_grid_preds),\n",
        "        accuracy_score(y_test, xgb_random_preds),\n",
        "    ]\n",
        "})\n",
        "\n",
        "sns.barplot(x='Accuracy', y='Model', data=final_results)\n",
        "plt.title(\"All Models: Accuracy Comparison\")\n",
        "plt.xlim(0.85, 1.0)\n",
        "plt.show()\n"
      ],
      "metadata": {
        "id": "hrf8aQL-VvE5"
      },
      "execution_count": null,
      "outputs": []
    }
  ]
}